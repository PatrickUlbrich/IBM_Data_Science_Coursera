{
 "cells": [
  {
   "cell_type": "markdown",
   "id": "b94f221c",
   "metadata": {},
   "source": [
    "<center>\n",
    "    <img src=\"https://s3-api.us-geo.objectstorage.softlayer.net/cf-courses-data/CognitiveClass/Logos/organization_logo/organization_logo.png\" width=\"300\" alt=\"cognitiveclass.ai logo\"  />\n",
    "</center>\n"
   ]
  },
  {
   "cell_type": "markdown",
   "id": "0c42b948",
   "metadata": {},
   "source": [
    "<h1>My Jupyter Notebook on IBM Watson Studio</h1>"
   ]
  },
  {
   "cell_type": "markdown",
   "id": "e3deb2d2",
   "metadata": {},
   "source": [
    "<b>Patrick U</b>\n",
    "\n",
    "Data Scientist"
   ]
  },
  {
   "cell_type": "markdown",
   "id": "8efe4769",
   "metadata": {},
   "source": [
    "<i>I am interested in data science because it brings a lot of interesting fields together.</i>"
   ]
  },
  {
   "cell_type": "markdown",
   "id": "1bacccbe",
   "metadata": {},
   "source": [
    "<h3>The code below shows the sum of 1+1.</h3>"
   ]
  },
  {
   "cell_type": "code",
   "execution_count": 2,
   "id": "aa94f4fa",
   "metadata": {},
   "outputs": [
    {
     "data": {
      "text/plain": [
       "2"
      ]
     },
     "execution_count": 2,
     "metadata": {},
     "output_type": "execute_result"
    }
   ],
   "source": [
    "1+1"
   ]
  },
  {
   "cell_type": "markdown",
   "id": "3d1f3da7",
   "metadata": {},
   "source": [
    "<a href=\"https://www.coursera.org/\">This is a link to Coursera<a>\n",
    "\n",
    "\n",
    "<ul>\n",
    "<li>A</li>\n",
    "<li>bullet</li>\n",
    "<li>list</li>\n",
    "</ul>\n",
    "    \n",
    "    \n",
    "<ol>\n",
    "<li>A</li>\n",
    "<li>numbered</li>\n",
    "<li>list</li>\n",
    "</ol>"
   ]
  }
 ],
 "metadata": {
  "kernelspec": {
   "display_name": "Python 3 (ipykernel)",
   "language": "python",
   "name": "python3"
  },
  "language_info": {
   "codemirror_mode": {
    "name": "ipython",
    "version": 3
   },
   "file_extension": ".py",
   "mimetype": "text/x-python",
   "name": "python",
   "nbconvert_exporter": "python",
   "pygments_lexer": "ipython3",
   "version": "3.9.7"
  }
 },
 "nbformat": 4,
 "nbformat_minor": 5
}
